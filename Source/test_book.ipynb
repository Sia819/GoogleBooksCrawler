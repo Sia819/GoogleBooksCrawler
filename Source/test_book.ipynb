{
 "cells": [
  {
   "cell_type": "code",
   "execution_count": 52,
   "metadata": {},
   "outputs": [],
   "source": [
    "from selenium import webdriver\n",
    "from selenium.webdriver.common.keys import Keys\n",
    "from selenium.webdriver.common.by import By\n",
    "from selenium.webdriver.support.ui import WebDriverWait\n",
    "from selenium.webdriver.support import expected_conditions as EC\n",
    "import undetected_chromedriver as uc\n",
    "import requests\n",
    "import os\n",
    "import time"
   ]
  },
  {
   "cell_type": "code",
   "execution_count": 53,
   "metadata": {},
   "outputs": [],
   "source": [
    "# 다운로드 경로 설정\n",
    "download_path = \"/downloads1\"\n",
    "\n",
    "chrome_options = uc.ChromeOptions()\n",
    "chrome_options.add_experimental_option(\"prefs\", {\n",
    "  \"profile.default_content_setting_values.popups\": 1,  # 0: 모든 팝업 차단, 1: 모든 팝업 허용\n",
    "  \"profile.default_content_setting_values.notifications\": 1,  # 1: 허용, 2: 차단\n",
    "  \"download.default_directory\": download_path,  # 다운로드 경로\n",
    "  \"download.prompt_for_download\": False,  # 다운로드시 확인 창 띄우지 않음\n",
    "  \"download.directory_upgrade\": True,  # 다운로드 경로 설정 활성화\n",
    "  \"safebrowsing.enabled\": True  # 안전 브라우징 활성화\n",
    "})\n",
    "\n",
    "# 드라이버 설정\n",
    "driver = uc.Chrome(options=chrome_options)"
   ]
  },
  {
   "cell_type": "code",
   "execution_count": 54,
   "metadata": {},
   "outputs": [],
   "source": [
    "# 페이지 접근\n",
    "driver.get('https://play.google.com/books/reader?id=6ybeEAAAQBAJ&hl=ko')"
   ]
  },
  {
   "cell_type": "code",
   "execution_count": 70,
   "metadata": {},
   "outputs": [],
   "source": [
    "# iframe 대기 및 포커스 이동\n",
    "iframe = WebDriverWait(driver, 1).until(\n",
    "    EC.presence_of_element_located((By.CSS_SELECTOR, \"iframe.-gb-display\"))\n",
    ")\n",
    "driver.switch_to.frame(iframe)\n",
    "\n",
    "# 필요한 요소 대기 및 찾기\n",
    "wrapper = WebDriverWait(driver, 1).until(\n",
    "    EC.presence_of_element_located((By.CLASS_NAME, \"cdk-virtual-scroll-content-wrapper\"))\n",
    ")"
   ]
  },
  {
   "cell_type": "code",
   "execution_count": 71,
   "metadata": {},
   "outputs": [],
   "source": [
    "def func(wrapper, list):\n",
    "    ol_element = wrapper.find_element(By.TAG_NAME, \"ol\")\n",
    "    li_elements = ol_element.find_elements(By.TAG_NAME, \"li\")\n",
    "\n",
    "    for li in li_elements:\n",
    "        render = li.find_element(By.TAG_NAME, \"reader-rendered-page\")\n",
    "        img = render.find_element(By.TAG_NAME, \"img\")\n",
    "        #src_value = img.get_attribute('src')\n",
    "        src_value = img.get_attribute('real-src')\n",
    "        print(src_value)\n",
    "        if src_value not in list:\n",
    "            list.append(src_value)\n",
    "            last_index = len(list) - 1\n",
    "            download_selenium(src_value, last_index)\n",
    "            return\n",
    "\n",
    "# # iframe 내에서 스크롤\n",
    "# def scroll(wrapper):\n",
    "#     ol_element = wrapper.find_element(By.TAG_NAME, \"ol\")\n",
    "#     li_elements = ol_element.find_elements(By.TAG_NAME, \"li\")\n",
    "#     driver.execute_script(\"arguments[0].scrollIntoView();\", li_elements[-1])\n",
    "\n",
    "def download_selenium(url, temp):\n",
    "    driver.execute_script(\"var link = document.createElement('a'); link.href = arguments[0]; link.download = ''; document.body.appendChild(link); link.click();\", url)\n",
    "    \"\"\"\n",
    "    original_tab = driver.current_window_handle\n",
    "\n",
    "    # 새 탭 열기\n",
    "    driver.execute_script(\"window.open('');\")\n",
    "    new_tab = driver.window_handles[-1]\n",
    "    driver.switch_to.window(new_tab)\n",
    "    driver.get(url)\n",
    "\n",
    "    new_tab_img = WebDriverWait(driver, 1).until(\n",
    "        EC.presence_of_element_located((By.TAG_NAME, \"img\"))\n",
    "    )\n",
    "\n",
    "    driver.execute_script(\"window.open('{}');\".format(url))\n",
    "    time.sleep(5)\n",
    "    \"\"\""
   ]
  },
  {
   "cell_type": "code",
   "execution_count": 72,
   "metadata": {},
   "outputs": [
    {
     "name": "stdout",
     "output_type": "stream",
     "text": [
      "https://play.google.com/books/publisher/content/reader?id=6ybeEAAAQBAJ&hl=ko&pg=PP1&img=1&zoom=3&sig=ACfU3U18CswFVEPESa1WkhaIK9JvTxV12A&w=663&h=856&edge=stretch\n"
     ]
    }
   ],
   "source": [
    "list = []\n",
    "func(wrapper, list)"
   ]
  },
  {
   "cell_type": "code",
   "execution_count": 69,
   "metadata": {},
   "outputs": [],
   "source": [
    "driver.switch_to.window(driver.window_handles[0])"
   ]
  },
  {
   "cell_type": "code",
   "execution_count": 31,
   "metadata": {},
   "outputs": [],
   "source": []
  }
 ],
 "metadata": {
  "kernelspec": {
   "display_name": "GoogleBooksCrawler",
   "language": "python",
   "name": "python3"
  },
  "language_info": {
   "codemirror_mode": {
    "name": "ipython",
    "version": 3
   },
   "file_extension": ".py",
   "mimetype": "text/x-python",
   "name": "python",
   "nbconvert_exporter": "python",
   "pygments_lexer": "ipython3",
   "version": "3.11.8"
  }
 },
 "nbformat": 4,
 "nbformat_minor": 2
}
