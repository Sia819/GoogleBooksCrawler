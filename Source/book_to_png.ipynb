{
 "cells": [
  {
   "cell_type": "code",
   "execution_count": 3,
   "metadata": {},
   "outputs": [
    {
     "name": "stdout",
     "output_type": "stream",
     "text": [
      "총 459개의 이미지 파일을 찾았습니다.\n",
      "잘못된 확장자의 파일 '367.png'을(를) '.png'로 변환했습니다.\n",
      "잘못된 확장자의 파일 '6.png'을(를) '.png'로 변환했습니다.\n",
      "잘못된 확장자의 파일 '72.png'을(를) '.png'로 변환했습니다.\n",
      "잘못된 확장자의 파일 '73.png'을(를) '.png'로 변환했습니다.\n",
      "잘못된 확장자의 파일 '75.png'을(를) '.png'로 변환했습니다.\n",
      "잘못된 확장자의 파일 '79.png'을(를) '.png'로 변환했습니다.\n",
      "잘못된 확장자의 파일 '80.png'을(를) '.png'로 변환했습니다.\n",
      "잘못된 확장자의 파일 '86.png'을(를) '.png'로 변환했습니다.\n",
      "잘못된 확장자의 파일 '94.png'을(를) '.png'로 변환했습니다.\n",
      "잘못된 확장자의 파일 '95.png'을(를) '.png'로 변환했습니다.\n",
      "모든 이미지를 PNG로 변환 완료.\n"
     ]
    }
   ],
   "source": [
    "import os\n",
    "from PIL import Image, ImageFile\n",
    "\n",
    "# 변환할 이미지가 있는 폴더 경로 설정\n",
    "directory_path = 'downloads/1권'\n",
    "ImageFile.LOAD_TRUNCATED_IMAGES = True\n",
    "\n",
    "# 파일 카운트 및 잘못된 확장자 파일 리스트 초기화\n",
    "file_count = 0\n",
    "misnamed_files = []\n",
    "\n",
    "# 우선 폴더를 순회하며 지원하는 이미지 확장자를 가진 파일의 수를 세고 잘못된 확장자 파일을 리스트에 추가\n",
    "for filename in os.listdir(directory_path):\n",
    "    file_path = os.path.join(directory_path, filename)\n",
    "    if os.path.isfile(file_path) and file_path.lower().endswith(('.png', '.jpg', '.jpeg', '.bmp', '.gif')):\n",
    "        file_count += 1\n",
    "        with Image.open(file_path) as img:\n",
    "            if img.format != 'PNG' and file_path.lower().endswith('.png'):\n",
    "                misnamed_files.append(filename)\n",
    "\n",
    "# 파일 개수 출력\n",
    "print(f\"총 {file_count}개의 이미지 파일을 찾았습니다.\")\n",
    "\n",
    "# 파일 변환 시작\n",
    "for filename in os.listdir(directory_path):\n",
    "    file_path = os.path.join(directory_path, filename)\n",
    "    if os.path.isfile(file_path) and file_path.lower().endswith(('.png', '.jpg', '.jpeg', '.bmp', '.gif')):\n",
    "        with Image.open(file_path) as img:\n",
    "            new_file_path = os.path.join(directory_path, os.path.splitext(filename)[0] + '.png')\n",
    "            img.save(new_file_path, 'PNG')\n",
    "            if filename in misnamed_files:\n",
    "                print(f\"잘못된 확장자의 파일 '{filename}'을(를) '.png'로 변환했습니다.\")\n",
    "\n",
    "print(\"모든 이미지를 PNG로 변환 완료.\")\n",
    "\n"
   ]
  }
 ],
 "metadata": {
  "kernelspec": {
   "display_name": "GoogleBooksCrawler",
   "language": "python",
   "name": "python3"
  },
  "language_info": {
   "codemirror_mode": {
    "name": "ipython",
    "version": 3
   },
   "file_extension": ".py",
   "mimetype": "text/x-python",
   "name": "python",
   "nbconvert_exporter": "python",
   "pygments_lexer": "ipython3",
   "version": "3.11.8"
  }
 },
 "nbformat": 4,
 "nbformat_minor": 2
}
