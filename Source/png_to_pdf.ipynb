{
 "cells": [
  {
   "cell_type": "code",
   "execution_count": 2,
   "metadata": {},
   "outputs": [
    {
     "name": "stdout",
     "output_type": "stream",
     "text": [
      "PDF 생성 완료: c:\\Users\\Sia\\Documents\\Dev\\GoogleBooksCrawler\\Source\\output.pdf\n"
     ]
    }
   ],
   "source": [
    "from PIL import Image, ImageEnhance\n",
    "import os\n",
    "\n",
    "def enhance_image_color(file_path):\n",
    "    with Image.open(file_path) as img:\n",
    "        # RGB 모드로 변환\n",
    "        if img.mode != 'RGB':\n",
    "            img = img.convert('RGB')\n",
    "\n",
    "        # 색상 보정\n",
    "        enhancer = ImageEnhance.Color(img)\n",
    "        img = enhancer.enhance(1.5)  # 색상 강도를 1.5배로 증가\n",
    "\n",
    "        return img\n",
    "\n",
    "def convert_images_to_pdf(source_folder, output_filename):\n",
    "    images = []\n",
    "    for file_name in os.listdir(source_folder):\n",
    "        if file_name.endswith('.png'):\n",
    "            file_path = os.path.join(source_folder, file_name)\n",
    "            image = enhance_image_color(file_path)\n",
    "            images.append(image)\n",
    "\n",
    "    if images:\n",
    "        images[0].save(output_filename, save_all=True, append_images=images[1:])\n",
    "        print(f\"PDF 생성 완료: {output_filename}\")\n",
    "    else:\n",
    "        print(\"변환할 PNG 이미지가 없습니다.\")\n",
    "\n",
    "\n",
    "# 사용 예\n",
    "current_dir = os.getcwd()\n",
    "directory_path = os.path.join(current_dir, 'Downloads', 'test')\n",
    "output_filename = os.path.join(current_dir, 'output.pdf')\n",
    "\n",
    "convert_images_to_pdf(directory_path, output_filename)"
   ]
  }
 ],
 "metadata": {
  "kernelspec": {
   "display_name": "GoogleBooksCrawler",
   "language": "python",
   "name": "python3"
  },
  "language_info": {
   "codemirror_mode": {
    "name": "ipython",
    "version": 3
   },
   "file_extension": ".py",
   "mimetype": "text/x-python",
   "name": "python",
   "nbconvert_exporter": "python",
   "pygments_lexer": "ipython3",
   "version": "3.11.8"
  }
 },
 "nbformat": 4,
 "nbformat_minor": 2
}
